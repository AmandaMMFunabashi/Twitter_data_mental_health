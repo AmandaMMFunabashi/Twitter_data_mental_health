{
 "cells": [
  {
   "cell_type": "code",
   "execution_count": 2,
   "id": "2b934fa0",
   "metadata": {},
   "outputs": [],
   "source": [
    "import pandas as pd\n",
    "import numpy as np\n",
    "from datetime import datetime\n",
    "\n"
   ]
  },
  {
   "cell_type": "markdown",
   "id": "7bcf16a3",
   "metadata": {},
   "source": [
    "# Analytics\n",
    "\n",
    "Based on twitter data scrap of mental health issues (PT-BR)"
   ]
  },
  {
   "cell_type": "markdown",
   "id": "0e48b61c",
   "metadata": {},
   "source": [
    "-- Data is not public"
   ]
  },
  {
   "cell_type": "code",
   "execution_count": null,
   "id": "697649a7",
   "metadata": {},
   "outputs": [],
   "source": [
    "data = pd.read_excel()"
   ]
  }
 ],
 "metadata": {
  "kernelspec": {
   "display_name": "Python 3 (ipykernel)",
   "language": "python",
   "name": "python3"
  },
  "language_info": {
   "codemirror_mode": {
    "name": "ipython",
    "version": 3
   },
   "file_extension": ".py",
   "mimetype": "text/x-python",
   "name": "python",
   "nbconvert_exporter": "python",
   "pygments_lexer": "ipython3",
   "version": "3.9.13"
  }
 },
 "nbformat": 4,
 "nbformat_minor": 5
}
