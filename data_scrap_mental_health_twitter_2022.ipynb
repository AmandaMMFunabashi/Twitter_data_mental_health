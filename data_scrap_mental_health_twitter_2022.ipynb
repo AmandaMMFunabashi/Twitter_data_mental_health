{
 "cells": [
  {
   "cell_type": "code",
   "execution_count": 1,
   "id": "efac5c34",
   "metadata": {},
   "outputs": [],
   "source": [
    "import tweepy as tw\n",
    "import pandas as pd\n",
    "import numpy as np\n",
    "from datetime import datetime"
   ]
  },
  {
   "cell_type": "code",
   "execution_count": 2,
   "id": "e5e64544",
   "metadata": {},
   "outputs": [],
   "source": [
    "with open('chave_twitter.txt') as t_keys_file:\n",
    "    app_key = t_keys_file.readline().strip(\"\\n\")\n",
    "    app_secret = t_keys_file.readline().strip(\"\\n\")\n",
    "    token = t_keys_file.readline().strip(\"\\n\")\n",
    "    token_secret = t_keys_file.readline().strip(\"\\n\")\n",
    "    bearer = t_keys_file.readline().strip(\"\\n\")"
   ]
  },
  {
   "cell_type": "code",
   "execution_count": 3,
   "id": "d1d41685",
   "metadata": {},
   "outputs": [],
   "source": [
    "auth = tw.OAuthHandler(app_key, app_secret)\n",
    "auth.set_access_token(token, token_secret)\n",
    "\n",
    "client = tw.Client(bearer, app_key, app_secret, token, token_secret)\n",
    "\n",
    "\n",
    "#print(response)"
   ]
  },
  {
   "cell_type": "code",
   "execution_count": 4,
   "id": "c4d9a2b6",
   "metadata": {},
   "outputs": [],
   "source": [
    "parameters = ['context_annotations','created_at', 'entities','geo','id','source','text', 'lang', 'author_id']"
   ]
  },
  {
   "cell_type": "code",
   "execution_count": 5,
   "id": "201a5760",
   "metadata": {},
   "outputs": [],
   "source": [
    "query = \"(depressão OR depressao)\""
   ]
  },
  {
   "cell_type": "code",
   "execution_count": 6,
   "id": "edddb6d1",
   "metadata": {},
   "outputs": [],
   "source": [
    "## until_id \n",
    "ct = 0\n",
    "\n",
    "all_tweets = []\n",
    "\n",
    "oldest_tweet_id = 0\n",
    "\n",
    "while ct < 5:\n",
    "    \n",
    "    tweets = []\n",
    "    \n",
    "    if ct == 0:\n",
    "\n",
    "        for tweet in client.search_recent_tweets(query =(f'{query} -is:retweet -has:mentions -(has:media OR has:links) lang:pt'), \n",
    "                                                 sort_order = 'recency', tweet_fields = parameters, max_results = 100,\n",
    "                                                 ):\n",
    "\n",
    "            tweets.append(tweet)\n",
    "    else:\n",
    "        for tweet in client.search_recent_tweets(query =(f'{query} -is:retweet -has:mentions -(has:media OR has:links) lang:pt'), \n",
    "                                                 sort_order = 'recency', tweet_fields = parameters, max_results = 100,\n",
    "                                                 until_id = oldest_tweet_id\n",
    "                                                 ):\n",
    "\n",
    "            tweets.append(tweet)\n",
    "    \n",
    "    oldest_tweet_id = tweets[3]['oldest_id']\n",
    "    \n",
    "    all_tweets.append(tweets)\n",
    "    \n",
    "    ct = ct + 1\n",
    "\n",
    "# Create dataframe \n",
    "#df = pd.DataFrame(all_tweets)\n",
    "\n",
    "# Revome duplicates if there are any\n",
    "#df = df.drop_duplicates( \"text\" , keep='first')"
   ]
  },
  {
   "cell_type": "code",
   "execution_count": 7,
   "id": "f98c5b2b",
   "metadata": {},
   "outputs": [
    {
     "data": {
      "text/plain": [
       "[<Tweet id=1599830174555869185 text='Acabei de receber meu diploma e nem isso curou minha depressão'>,\n",
       " <Tweet id=1599829998139224064 text='carai q depressão hj viu espero q o brasil ganhe pra da uma animada'>,\n",
       " <Tweet id=1599829982154412032 text='minha mãe saindo e eu não, aí que depressão. como eu odeio ficar em casa meu deus'>,\n",
       " <Tweet id=1599829965960536064 text='nao vo assisti o jogo to com depressão'>,\n",
       " <Tweet id=1599829869986095105 text='nossa que depressao vou assistir o jogo sozinha na minha casa'>,\n",
       " <Tweet id=1599829856442687488 text='A Mirella filmando o quarto meu Deus eu tô amando KKKKKKKKKKKK com depressao pq n tô na farofa mas rindo demais c essa mulher'>,\n",
       " <Tweet id=1599829847802462208 text='Story da Mirella cura depressao sim galera'>,\n",
       " <Tweet id=1599829688582479872 text='entrando em estado de depressão profunda pq não acho o dono do gato e tb por não poder ficar com ele'>,\n",
       " <Tweet id=1599829670421491713 text='se vc fosse uma panela qual seria a) uma frigideira sem tampa b) uma panela depressão'>,\n",
       " <Tweet id=1599829579731857408 text='Que depressão viu'>,\n",
       " <Tweet id=1599829518163668992 text='tô numa depressão tão grande por ver o jogo seu meu pretinho 🥲'>,\n",
       " <Tweet id=1599829411318026240 text='95 quilos de depressao em cada ombro'>,\n",
       " <Tweet id=1599829379374161920 text='Minhas coisas da shein chegaram eu não quero saber de depressão'>,\n",
       " <Tweet id=1599829346427944961 text='Saudades do horário de verão. Que depressão esta escuridão às 18h'>,\n",
       " <Tweet id=1599829245915672576 text='1 erro na dreambattle que depressÃo'>,\n",
       " <Tweet id=1599829161182273536 text='to em depressão pq o meu chuveiro ta pingando'>,\n",
       " <Tweet id=1599829157957206016 text='depressao pós plague tale requiem'>,\n",
       " <Tweet id=1599829066462662657 text='graças a deus no segundo semestre eu aproveitei esse auge na europa e com a depressão um pouco mais controlada, apenas crises de pânico esporádicas mesmo'>,\n",
       " <Tweet id=1599829012595216384 text='já estou em depressão só de pensar na segunda chamada da prova de anato'>,\n",
       " <Tweet id=1599828944315817984 text='era pra eu estar enchendo a cara agora pré jogo do brasa\\nestou em depressão'>,\n",
       " <Tweet id=1599828916897579008 text='jogar rpg com os meus amigos vai ser a cura da minha depressão...'>,\n",
       " <Tweet id=1599828866918674433 text='cr eu amo ver os meus rascunhos do ttk, é uma mistura de depressão e alegria, mt bom kkkkjkjkkkkk'>,\n",
       " <Tweet id=1599828815919738880 text='o ano em que eu quase morri de depressão não ironicamente foi o ano do auge da minha beleza NÃO CONFORMO'>,\n",
       " <Tweet id=1599828767152558081 text='os \"arrume-se comigo\" do veigh no tktk é a cura da minha depressão vsf KKKKKKKKKKKKKKKKKKKKKKKKKKKKKKKK'>,\n",
       " <Tweet id=1599828714870648834 text='jorge e mateus motivo da minha felicidade e da minha depressão'>,\n",
       " <Tweet id=1599828700781957120 text='como pode né em dia de jogo do brasil a depressão simplesmente não existe'>,\n",
       " <Tweet id=1599828653847633920 text='2022 foi um ano incrível e sinto cada vez mais a depressao sumindo aos pouquinhos e conseguindo focar… muito feliz com isso'>,\n",
       " <Tweet id=1599828611363524608 text='to com depressão vendo o pessoal chegando na farofa da gkay, eu só queria ir tambémmm'>,\n",
       " <Tweet id=1599828588987310080 text='esse final de ano deus realmente quis me deixar com menos depressão possível tá tudo dando tão certo lula agora copa com hexa um monte de seriado bom saindo alice in borderland anúncio de turnê daqui a pouco verão entra ai'>,\n",
       " <Tweet id=1599828584062865410 text='queria estar bebendo uma cervejinha me preparando pra ver o jogo \\nmas estou com depressão ao invés disso'>,\n",
       " <Tweet id=1599828553540829184 text='Pô, q depressão n ter rolê pra hoje, me chamem pra algo pfvr, vo fica maluco 😔'>,\n",
       " <Tweet id=1599828497660203008 text='assistir o jogo sozinho de novo 😢 depressão'>,\n",
       " <Tweet id=1599828395319123968 text='normalmente, ele é bem depreciativo consigo mesmo, faz umas piadas pesadas sobre a própria existência. tem depressão e transtorno bipolar. apesar dessas questões ele é, nada mais nada menos, que psicanalista da PC, e atua no IML atendendo casos de estupro e pedofilia+'>,\n",
       " <Tweet id=1599828386486300672 text='Acho muito incrível terem tudo e poderem dar tanto aos filhos, fico em depressão por comparar a minha vida msm'>,\n",
       " <Tweet id=1599828384254525440 text='Eu comecei a seguir um casal em 2016 no youtube, eles tinham 2 filhos e engravidaram do 3°, tavam trabalhando p conseguir uma casa e tal... Hoje são milionários e fico com depressão toda vez q vejo os vídeo da casa no lago, com um barco e 2 tesla na garagem e 1 ruma de brinqdo'>,\n",
       " <Tweet id=1599828366756315141 text='Assistir o jogo sozinho em casa tô com 3 depressão'>,\n",
       " <Tweet id=1599828361676668928 text='mestre ensinador unica coisa curando minha depressao ultimamente'>,\n",
       " <Tweet id=1599828357998292993 text='Vim pra itape e vou assistir o jogo em casa só eu e ele (depressão'>,\n",
       " <Tweet id=1599828349362515968 text='CHEGA DE TRISTEZA E DEPRESSÃO PQ HJ TEM BRASIL 🇧🇷🇧🇷🇧🇷🇧🇷🇧🇷'>,\n",
       " <Tweet id=1599828340847702016 text='Vou assistir o jogo sozinha que depressão 😭'>,\n",
       " <Tweet id=1599828323768893441 text='não quero me despedir do livro aaaaaaaaaaaaaa\\nfalta tão pouco  q depressão 😭'>,\n",
       " <Tweet id=1599828290587357184 text='minha depressao me consumindo literalmente'>,\n",
       " <Tweet id=1599828222849339393 text='se der certo de passar fim do ano c as meninas minha depressão vai ser curada!!!'>,\n",
       " <Tweet id=1599828145292554240 text='depressao pós caos club 😭'>,\n",
       " <Tweet id=1599828122362265601 text='Brasil por favor ganhe se não hoje eu durmo com depressão profunda'>,\n",
       " <Tweet id=1599828109699973120 text='fui corrigir meu enem de ciências da natureza e to com depressao'>,\n",
       " <Tweet id=1599828103072608257 text='assistir os stories da mirella cura minha depressão'>,\n",
       " <Tweet id=1599828095543844864 text='Gente feia sensualizando me da gatilho depressão ansiedade derrame avc crise de panico'>,\n",
       " <Tweet id=1599828020893999105 text='escutar jorge e mateus cura depressão véi'>,\n",
       " <Tweet id=1599827973364146177 text='depressão pós show'>,\n",
       " <Tweet id=1599827860130185217 text='mensalidade do horas indo pra 800 conto pq agora vai ter aula dia de sábado KKKKKK QUE DEPRESSÃO'>,\n",
       " <Tweet id=1599827811912458241 text='odeio me despedir de amg, que depressão'>,\n",
       " <Tweet id=1599827799363051520 text='to c depressao n vo pode ve o brasil dando uma surra na coreia'>,\n",
       " <Tweet id=1599827719449346048 text='Se eu falasse tudo oq penso sem me importar com os outros, eu seria responsável pela depressão de muita gente\\nSeria (mais) odiado em muitos lugares kkkkkkkkkk'>,\n",
       " <Tweet id=1599827702411800579 text='nunca mais quero ve anime na minha vida peguei depressao'>,\n",
       " <Tweet id=1599827665589977088 text='Mais de um ano de acompanhamento psicológico e psiquiátrico e ainda não sabem o que eu tenho além de depressão, só que eu sou neurodivergente de algum jeito. Não aguento mais!'>,\n",
       " <Tweet id=1599827625588838400 text='E não venham me dizer que não tenho direitos pq fulano ciclano ou bertano não teve e eu tbm não vou ter. Cada caso é um caso. Em 2016 eu não tinha nada e hoje em 2022 estou praticamente podre em estado de depressão gravíssimo pq será neh?'>,\n",
       " <Tweet id=1599827461369303041 text='Que depressão'>,\n",
       " <Tweet id=1599827441861943296 text='Fase 4 — Depressão (Passou da conta)\\n\\nVai\\nVou te esquecer\\nSe você já não me quer mais na sua vida\\nEu vou lembrar você\\nMas tenho que esquecer\\nNossos caminhos já não tem outra saída'>,\n",
       " <Tweet id=1599827377323810816 text='Estou em depressão profunda pelo Japão pqp Assano'>,\n",
       " <Tweet id=1599827283665002496 text='depressão daqueles cara que usa cinto da Gucci aparecendo'>,\n",
       " <Tweet id=1599827245262344193 text='chega dezembro e com ele a depressão rs'>,\n",
       " <Tweet id=1599827077028450304 text='Dois dos meus diagnósticos são depressão e transtorno de ansiedade generalizado, mas a galera jurou que eu tava fingindo pra chegar na grade 👍'>,\n",
       " <Tweet id=1599827057642389504 text='descubra qual é a informação verdadeira\\n\\n1- tenho depressao pós parto\\n2- meus antidepressivos estao me deixando broxa \\n\\nmt dificil'>,\n",
       " <Tweet id=1599827001711374336 text='as foto da Bruna na trend de anime são a cura da minha depressão'>,\n",
       " <Tweet id=1599826971680452608 text='ao msm tempo que eu tô \"ah n tem como perder, 100% confirmado as quartas já\" eu tô com o uc mão. Se o br perde eu real entro em depressão'>,\n",
       " <Tweet id=1599826961454403586 text='depressão: pq tá sorrindo vadia???\\neu: vou ver ela hoje putona, se aquieta 💪'>,\n",
       " <Tweet id=1599826953925586944 text='mas um dia com a nicolli, 0 depressão'>,\n",
       " <Tweet id=1599826893099831296 text='vocês tem com quem combinar camisa hoje?? ((que depressão 😭'>,\n",
       " <Tweet id=1599826890650398727 text='Vou fazer um texto pra cada professor que eu gosto , vou entrar em depressao mas tudo bem..'>,\n",
       " <Tweet id=1599826883394224128 text='Hoje é mais um daqueles dias em que estamos fadados ao mais puro ecstasy ou a mais profunda depressão'>,\n",
       " <Tweet id=1599826800305377281 text='Heather tras depressão'>,\n",
       " <Tweet id=1599826792524939264 text='depressão por falta de um docinho e outras coisas mais'>,\n",
       " <Tweet id=1599826672412303360 text='Sabe oq e Foda e q ele e lindo kkkkk mas ele n e so lindo ele e Lindo educado gentil fofo E esse o problema e oq Me deixa com depressao'>,\n",
       " <Tweet id=1599826528249909248 text='eu sinto que hoje minha pressão alta, meu problema de coração, minha depressão, minha dislexia, meu tdah; vão tudo atacar hoje e eu vou morrer de infarto e vai ser, mais ou menos, as 16:30 que isso vai acontecer.'>,\n",
       " <Tweet id=1599826512743915521 text='Dormir e acordei com tanta dor no peito e essa vontade de chorar e o medo de entrar em depressao, de semana passada p cá eu durmo o dia inteiro e não me orgulho disso eu tento mas parece que está tudo travado 😭😭'>,\n",
       " <Tweet id=1599826507433529345 text='e tomando sorvete pra curar a depressão'>,\n",
       " <Tweet id=1599826363464105989 text='decidi concluir a leitura do conto do meu amigo antes do jogo e agora estou EM DEPRESSÃO'>,\n",
       " <Tweet id=1599826336154984451 text='Mais um dia de chuva chega e com ela a depressão'>,\n",
       " <Tweet id=1599826312054513666 text='\"a pq eu me inspiro nos meus ídolos\"\\nOs ídolos: Cássia Eller, Michael Jackson, Amy Winehouse, Kurt Cobain, Raul Seixas...\"\\nQuem não morreu de droga morreu de depressão\\nQue tecnicamente dá no mesmo\\nAfinal, sabemos pq q as pessoas usam drogas não eh mesmo?\\n(Autocr...'>,\n",
       " <Tweet id=1599826311421210624 text='tava vendo meus tweets da rant e só tem depressão e arrependimento KKKKKKKKK'>,\n",
       " <Tweet id=1599826254156308481 text='Depressão profunda'>,\n",
       " <Tweet id=1599826253351366658 text='herdei depressão do lado do meu pai e tdah do lado da minha mãe 🥰😍'>,\n",
       " <Tweet id=1599826210988519425 text='tô só a depressão'>,\n",
       " <Tweet id=1599826208929484801 text='acho bom o brasil ganhar hoje se não infelizmente vou entrar em depressão'>,\n",
       " <Tweet id=1599826203845672960 text='proxima sessao diagnosticada com depressao'>,\n",
       " <Tweet id=1599826194072944641 text='só não tenho depressão pq sempre estou meio desligada da vida real e vivendo num mundo imaginário'>,\n",
       " <Tweet id=1599826166898008065 text='me encontro em depressão por não conseguir olhar o jogo hoje'>,\n",
       " <Tweet id=1599826166839316481 text='assistindo sem meus amgs hj, q depressão'>,\n",
       " <Tweet id=1599826154898063360 text='tô a umas semanas ficando triste do nada tipo mt triste msm do nada e eu n tava entendendo nd aí eu lembrei hj q eu tenho depressão e tudo fez sentido dnv'>,\n",
       " <Tweet id=1599826150800302080 text='Gente esses remédios que eu tomo pra depressão é bom dmais,krl tô relaxada pra krl'>,\n",
       " <Tweet id=1599826147277086720 text='os 5C da depressao de hj\\n\\nchuva\\ncafe\\ncodeina\\ncrack\\ncarencia 😔🤏'>,\n",
       " <Tweet id=1599826142562689024 text='Eu estou cansado em todos os sentidos, não tenho forças pra andar, ir na academia, não tenho força para falar, ontem foi um dia destrutivo, sou uma péssima pessoa e agora provavelmente essa depressão só vai de mal a pior.'>,\n",
       " <Tweet id=1599826097381978112 text='sim, hoje estou com depressão por algo de mais de um ano e meio atrás, vcs vão ter que me aguentar'>,\n",
       " <Tweet id=1599826020307472384 text='Depressão foi embora quem quiser me chamar pra sair eu aceito'>,\n",
       " <Tweet id=1599826016645500929 text='primeiro jogo que vo assistir sozinha, tudo me abala que depressão'>,\n",
       " <Tweet id=1599825652483469313 text='quanto mais minha mae termina o semestre de psicologia mais ela descobre q tenho depressão tô ficando sem tempo💔'>,\n",
       " <Tweet id=1599825605565902848 text='Estou triste galera fiquei esperando um serzinho aí vir treinar comigo hj nem apareceu que  depressão kdkdjdkdkdkdkkd'>]"
      ]
     },
     "execution_count": 7,
     "metadata": {},
     "output_type": "execute_result"
    }
   ],
   "source": [
    "all_tweets[0][0]"
   ]
  },
  {
   "cell_type": "code",
   "execution_count": 8,
   "id": "9b9fc8bb",
   "metadata": {},
   "outputs": [],
   "source": [
    "df = pd.DataFrame()\n",
    "for i in all_tweets:\n",
    "    df = pd.concat([df, pd.DataFrame(i[0])], ignore_index=True)\n",
    "df = df.drop_duplicates( \"text\" , keep='first')"
   ]
  },
  {
   "cell_type": "code",
   "execution_count": 9,
   "id": "f139d105",
   "metadata": {},
   "outputs": [
    {
     "data": {
      "text/plain": [
       "pt    469\n",
       "Name: lang, dtype: int64"
      ]
     },
     "execution_count": 9,
     "metadata": {},
     "output_type": "execute_result"
    }
   ],
   "source": [
    "df.lang.value_counts()"
   ]
  },
  {
   "cell_type": "code",
   "execution_count": 10,
   "id": "fcc3bd5c",
   "metadata": {},
   "outputs": [
    {
     "data": {
      "text/plain": [
       "(469, 10)"
      ]
     },
     "execution_count": 10,
     "metadata": {},
     "output_type": "execute_result"
    }
   ],
   "source": [
    "df.shape"
   ]
  },
  {
   "cell_type": "code",
   "execution_count": 11,
   "id": "6499cba3",
   "metadata": {},
   "outputs": [],
   "source": [
    "today = str(datetime.today().strftime('%Y-%m-%d').replace('-', '_'))"
   ]
  },
  {
   "cell_type": "code",
   "execution_count": 12,
   "id": "8a4c92f7",
   "metadata": {},
   "outputs": [],
   "source": [
    "df.to_csv(f'twitter_data_mh_{today}.csv')"
   ]
  },
  {
   "cell_type": "code",
   "execution_count": null,
   "id": "da951d8a",
   "metadata": {},
   "outputs": [],
   "source": [
    "### 3h de diferença para server do twitter"
   ]
  },
  {
   "cell_type": "code",
   "execution_count": null,
   "id": "705f030a",
   "metadata": {},
   "outputs": [],
   "source": [
    "### remover perguntas: todas as frases que contenham '?'\n",
    "### retirar as # - regex"
   ]
  },
  {
   "cell_type": "code",
   "execution_count": null,
   "id": "77a5de6d",
   "metadata": {},
   "outputs": [],
   "source": []
  },
  {
   "cell_type": "markdown",
   "id": "dad755bd",
   "metadata": {},
   "source": [
    "marcar frases aleatórias sem data como sendo depressão real 1 x modo de falar 0\n",
    "fazer modelo para prever as outras e analisar \n",
    "palavras que mais aparecem em tweets de depressão real\n",
    "linha do tempo em mais uma busca no twitter por usuários que o modelo deu true para depressão"
   ]
  },
  {
   "cell_type": "code",
   "execution_count": null,
   "id": "aa3fe652",
   "metadata": {},
   "outputs": [],
   "source": []
  },
  {
   "cell_type": "markdown",
   "id": "4f31904e",
   "metadata": {},
   "source": [
    "#### Diagnostico"
   ]
  },
  {
   "cell_type": "code",
   "execution_count": 4,
   "id": "a5190b8a",
   "metadata": {},
   "outputs": [],
   "source": [
    "parameters = ['context_annotations','created_at', 'entities','geo','id','source','text', 'lang', 'author_id']"
   ]
  },
  {
   "cell_type": "code",
   "execution_count": 5,
   "id": "91d49c6e",
   "metadata": {},
   "outputs": [],
   "source": [
    "query = \"(diagnostico OR diagnóstico OR diagnosticada OR diagnosticado) (depressão OR depressao)\""
   ]
  },
  {
   "cell_type": "code",
   "execution_count": null,
   "id": "18e620c8",
   "metadata": {},
   "outputs": [],
   "source": []
  },
  {
   "cell_type": "code",
   "execution_count": 13,
   "id": "198ae246",
   "metadata": {},
   "outputs": [
    {
     "name": "stdout",
     "output_type": "stream",
     "text": [
      "fim. Iteracoes: 2\n",
      "fim. Iteracoes: 2\n",
      "fim. Iteracoes: 2\n"
     ]
    }
   ],
   "source": [
    "## until_id \n",
    "ct = 0\n",
    "\n",
    "all_tweets = []\n",
    "\n",
    "oldest_tweet_id = 0\n",
    "\n",
    "while ct < 5:\n",
    "    \n",
    "    tweets = []\n",
    "    \n",
    "    try:\n",
    "    \n",
    "        if ct == 0:\n",
    "\n",
    "            for tweet in client.search_recent_tweets(query =(f'{query} -is:retweet -has:mentions -(has:media OR has:links) lang:pt'), \n",
    "                                                     sort_order = 'recency', tweet_fields = parameters, max_results = 100,\n",
    "                                                     ):\n",
    "\n",
    "                tweets.append(tweet)\n",
    "        else:\n",
    "            for tweet in client.search_recent_tweets(query =(f'{query} -is:retweet -has:mentions -(has:media OR has:links) lang:pt'), \n",
    "                                                     sort_order = 'recency', tweet_fields = parameters, max_results = 100,\n",
    "                                                     until_id = oldest_tweet_id\n",
    "                                                     ):\n",
    "\n",
    "                tweets.append(tweet)\n",
    "    \n",
    "        oldest_tweet_id = tweets[3]['oldest_id']\n",
    "\n",
    "        all_tweets.append(tweets)\n",
    "        \n",
    "    except:\n",
    "        print(f'fim. Iteracoes: {len(all_tweets)}')\n",
    "        \n",
    "    ct = ct + 1\n",
    "# Create dataframe \n",
    "#df = pd.DataFrame(all_tweets)\n",
    "\n",
    "# Revome duplicates if there are any\n",
    "#df = df.drop_duplicates( \"text\" , keep='first')"
   ]
  },
  {
   "cell_type": "code",
   "execution_count": 14,
   "id": "027ae082",
   "metadata": {},
   "outputs": [
    {
     "data": {
      "text/plain": [
       "[[[<Tweet id=1600199315531911168 text='Diagnosticada com depressão severa só pra terminar o ano maravilhoso de 2022'>,\n",
       "   <Tweet id=1600193326917226498 text='Eu amava a livia e o jotinha juntos, e agr ele postando um video falando que foi diagnosticado com depressão.. e a livia na farofa sem falar nd😪😪😪\\nNão sei se eles são amigos ainda, mas q bad kkkk queria eles juntos dnv'>,\n",
       "   <Tweet id=1600172526188888065 text='“impedir o suicidio dele ou…” impedir o suicidio dele.\\nsamuel foi o unico mlk q eu amei na vida, nos conhecemos desde criança, ele foi a unica pessoa q acompanhou todas as minhas fases e nunca pensou em desistir de mim, ele foi diagnosticado com depressão com 10 anos +'>,\n",
       "   <Tweet id=1600167906062454792 text='escutando conversa alheia e surtando com a mulher falando da sobrinha que foi diagnósticada com depressão \"eu não sei pq isso ela tem tudo do bom e do melhor estuda em colégio particular não tem preocupação nenhuma....\"☠️☠️☠️'>,\n",
       "   <Tweet id=1600144141236609025 text='eu já fui diagnosticada com tanta coisa, depressão crônica, síndrome do pânico, fobia social... por um grande momento eu pensei que eu nunca seria feliz e \"normal\" de novo (*normal eu falo o meu normal, quem sou)'>,\n",
       "   <Tweet id=1600131900298776577 text='No fim da minha terapia hoje minha psicóloga veio me dizer que o meu diagnóstico é de depressão e depois disso eu nem sei dizer oq eu tô sentindo'>,\n",
       "   <Tweet id=1600115025196089346 text='Exemplo pessoal não é parâmetro, mas do alto de quem sofre de depressão crônica diagnosticada e tratada, lamento, mas essa não cola.\\n\\nE por pior que seja seu quadro, isso não te isenta de responder por seus atos. Se ele se tornou mentalmente incapaz, que renuncie ao mandato'>,\n",
       "   <Tweet id=1600109676162531329 text='diagnóstico: depressao pos prova'>,\n",
       "   <Tweet id=1599971315611734016 text='na próxima consulta eu vou perguntar se ja tem um diagnóstico pq a muie ja citou depressão varias vezes ja estou começando a ficar bilu teteia'>,\n",
       "   <Tweet id=1599951601653141505 text='“você sabia que isso e lei da atração né?” “eu fui diagnosticado com depressão profunda”\\nJKKKKKKKKKKKKKKKKKKKKKKKKKKKKKK EU NUNCA RI TANTO NA MINHA VIDA'>,\n",
       "   <Tweet id=1599936076390354944 text='Isso pode até causar depressão l, aí quando vc for diagnosticada com depressão e ter que gastar dinheiro com psicólogo, remédios e muito mais, ela vai falar que a culpa é totalmente sua \\nAí vc vai se sentir culpado,e isso vai pio4ar cadê vez mais\\nAí vc fica sozinho até piora aí'>,\n",
       "   <Tweet id=1599926697997934592 text='a parte da ansiedade e melancolia/depressão (são sei diferenciar os dois com exatidão) pode ser comorbidade de um TDAH ou TEA não diagnosticado por não ser tão evidente que sou, ja que os dois transtornos possuem muitas semelhanças, mas a AH/SD eu tenho 80% de certeza'>,\n",
       "   <Tweet id=1599924805092134912 text='dps que fui diagnosticada com depressão smp tem a parte ruim de ter dias bons é que eu fico extremamente feliz achando que me livrei dela mas não.. ela tá aqui há anos e tô aceitando que ela nunca vai embora e eu vou viver de recaídas'>,\n",
       "   <Tweet id=1599922016760406016 text='algum psicólogo me faz um diagnóstico, pra ver se eu tenho depressão'>,\n",
       "   <Tweet id=1599915001795719168 text='Aparentemente chorar no colo do pai pedindo pra morrer não é normal mas sim começo de depressão 🤡 a semana já começa ótima com um diagnóstico desses.'>,\n",
       "   <Tweet id=1599910965847334914 text='mano nunk vo esquece do dia qi eu tava falano dos meus probleminhas mentais co a minha professora e eu fisse qi era diagnosticado desde os 10 anos ai ela \"diagnóstico de super dotação?\" e eu \"nao, depressao mesmo\" e ela fico com uma cara mt KKKKKKKKKK segurei mt a risada'>,\n",
       "   <Tweet id=1599890728913510400 text='As  crises voltaram a alguns meses atrás, recebi diagnóstico de depressão de novo, passei em consulta mudou meu medicamento, comecei a tomar semana passada quase  morri de tanto passar mal,tô  ainda sofrendo com esse remédio, espero que passe logo isso.'>,\n",
       "   <Tweet id=1599889967156953088 text='Fui diagnosticado c depressão pós perder aposta'>,\n",
       "   <Tweet id=1599889906913771521 text='Para confirmar o diagnóstico, foi recomendado que eu fizesse uma avaliação mais aprofundada com um psicopedagogo que além de confirmar o diagnóstico de #TDAH me diagnosticou com depressão e transtorno de ansiedade.'>,\n",
       "   <Tweet id=1599868341170028544 text='e minha amg que me mandou uns áudios na sequint energia:\\n\"Eu acho que vc deve estar trist pq compara sua vida d merda com a minh perfeita q posto no insta, mas deixa de fazer isso, nada no insta é o que é\"\\n???\\nfã ou hater?\\namr tô na bad pq tenho diagnóstico de depressão \\nse toca'>,\n",
       "   <Tweet id=1599848358100992002 text='gente que enche a boca pra falar que tem algum diagnóstico (depressão e derivados).'>,\n",
       "   <Tweet id=1599826203845672960 text='proxima sessao diagnosticada com depressao'>,\n",
       "   <Tweet id=1599818882801233922 text='minha mae falou q eu fui diagnosticada com depressão des dos 3 anos d idade (?????'>,\n",
       "   <Tweet id=1599800969339863042 text='Estudando psiquiatria… a cada novo assunto me diagnostico com um novo transtorno. Até agora só exclui depressão/psicose pós parto 🥺'>,\n",
       "   <Tweet id=1599794965693231105 text='diagnosticado com DPC (depressão pós chameguinho 😔'>,\n",
       "   <Tweet id=1599781291079004160 text='em 2020 eu fui para um acampamento aonde esse “dom” se manifestou novamente, ele ainda me persegue mas depois desse dia ele diminui cada vez mais, também em 2020 eu fui oficialmente diagnosticada com depressão e ansiedade, comecei tratamento psicológico mas não melhorava +'>,\n",
       "   <Tweet id=1599767108086157313 text='Iasmin dps de hj vai precisar de terapeuta , diagnóstico:\"aluno entra em depressão e desespero logo após fazer a prova de gnt alta e outro pequeno irmão de morcego'>,\n",
       "   <Tweet id=1599754973448806400 text='tenho  ansiedade  i  depressão , provavelmente  tenho  tdah  porém  sem  diagnóstico  pq  o  terapeuta  falo  qi  nao  posso  fazer  o  teste  estando  com  depressão  pq  poderia  interferir  aaAaaaaa'>,\n",
       "   <Tweet id=1599739264752750592 text='diagnosticado com depressão pós pave'>,\n",
       "   <Tweet id=1599735788421337088 text='conversa com a psicologa errada hj:\\n\"vc tem 24 anos?\" \\nnao\\n\"vc mora cm 2 filhas e seu marido certo?\"\\nnao\\n\"vc tem diagnostico de depressao?\"\\nsim\\n\"seu nome é juliane?\"\\nnao'>,\n",
       "   <Tweet id=1599710691476516868 text='Vão vir com um diagnóstico de depressão, mas não tem fluoxetina que dê jeito em veio mimado.  E digito isso tomando a minha dose que infelizmente aqui é depressão mesmo.'>,\n",
       "   <Tweet id=1599608243545731077 text='Tenho receio de vira aquelas pessoas q usam o diagnóstico de carteirada apesar de nunca ter usado isso cm minha surdez ou minha depressão \\n\\nMas no final, tudo oq eu mais sinto é alívio, ainda mais dps q eu comecei a melhorar entendendo minha desatenção e como ela funciona'>,\n",
       "   <Tweet id=1599598923571548160 text='Hoje eu tive uma recaída pra depressão (sim, apesar de não parecer, tenho diagnóstico) e a um bom tempo eu não tinha recaídas como essas. Precisei de alguém, e esse alguém não conseguiu vir na hora que chamei. Mas horas depois ela apareceu de surpresa. Aliviou tantooo.'>,\n",
       "   <Tweet id=1599593871272726529 text='meu pai: \"faz um ano q eu to sofrendo, não aguento mais vou ficar doido\" \\neu respondi: \"faz 3 anos e meio que eu fui diagnosticada com depressão e guardo as coisas pra mim, não consigo falar pra ninguém, diferente de mim vc vai no médio, nunca me levaram dps do diagnóstico\"'>,\n",
       "   <Tweet id=1599582910054440960 text='lembrando do dia q contei p uma amiga q tinha dias q eu surtava e sumia de tudo e so aparecia quando tava bem dnv e ai ela do nada \"binha vc tem depressão?\" e eu \"...nao... eu n tenho um diagnóstico 😀\" e ai ela simplesmente disse \"tem sim\"'>,\n",
       "   <Tweet id=1599578989965631488 text='pensar que a minha psicóloga deu pra minha mãe o diagnóstico de depressão eu tinha 11 anos no dia do meu aniversário,dói pra crl'>,\n",
       "   <Tweet id=1599577654910668800 text='Depois de quase 5 anos com um diagnóstico de depressão e ansiedade, uma piora tremenda na Pandemia,eu tô tendo a felicidade de ter alta da medicação, não foi fácil, não é fácil, me isolei, busquei ajuda médica,suportei esse processo difícil e tô aqui, vencendo e gratidão Deus...'>,\n",
       "   <Tweet id=1599512547127762944 text='Esse ano eu conheci a pior e as melhores pessoas da minha vida, e o resultado dessa subtração…me fez continuar forte, mesmo diagnosticado com depressão, e no fundo do poço durante todo esse processo, continuei aqui…agradecido por tudo que eu tinha, e feliz com o que ganhei!'>,\n",
       "   <Tweet id=1599506018681073667 text='diagnóstico: DPP (depressão pós pism)'>,\n",
       "   <Tweet id=1599499038377713664 text='caraio falei meio sem pensar essa mas meu jesuisinho, eu tinha 18 anos quando fui diagnosticada com depressão, em 5 anos vou ter passado mais tempo com depressão do que sem kkkkkkkkkkkkkkkk'>,\n",
       "   <Tweet id=1599498545500852224 text='E eu que estou diagnosticado com um vírus que não tem cura e um dos maiores estágio disso tudo é a depressao'>,\n",
       "   <Tweet id=1599436432346476544 text='Sério, vou fazer aniversário de 10 anos de diagnóstico de depressão ano q vem, e uma das minhas questões tá sendo como eu sinto q eu perdi todo esse tempo e como eu deveria ser uma pessoa melhor e desenvolvida\\nEu não fiz nada esse tempo pq ngm fez nada por mim'>,\n",
       "   <Tweet id=1599399956967985152 text='fui diagnosticada com dpw\\n\\ndepressão pós wandinha'>,\n",
       "   <Tweet id=1599360948086579201 text='Eu nasci com Hiperatividade, desenvolvi Distúrbio de Ansiedade e Depressão, mas eu aceitei que existe diagnóstico e tratamento, por isso não paro de me cuidar e já voei tão alto... NAO ADIANTA DESISTIR DESISTIR. Os dias melhores dependem de mim.'>,\n",
       "   <Tweet id=1599271076545974272 text='Dores intensas que me impediam de andar, sangramentos, diagnóstico: fístula anal, cirurgia, emagrecimento, crises de dores de barriga, 39kg, subdesnutrição, quase uma depressão, mais dois diagnósticos: Retocolite Ulcerativa e intolerância a lactose, tudo dentro de 1 ano.Seguimos'>,\n",
       "   <Tweet id=1599254112490901504 text='Semana que vem faço 30 anos.\\nSempre odiei meu aniversário, por isso nunca me importei com comemorações e presentes. No entanto, é uma puta ironia chegar nessa mística e simbólica data com um diagnóstico tardio de depressão. Agora vou odiar ainda mais meu aniversário.'>,\n",
       "   <Tweet id=1599199377880649728 text='tentando ficar bem.. tentando ficar melhor sabe? ouvi alguns comentários me magoa muito.. fui diagnosticado com ansiedade e depressão meu médico disse que estou a beira da depressão profunda ai to fazendo o possível para melhorar'>,\n",
       "   <Tweet id=1599191790917406720 text='Eu aqui com depressão crônica, transtorno de ansiedade generalizada e síndrome do pânico (e possivelmente um TDAH não diagnosticado) tendo que ler esse tipo de coisa. É pra morrer.'>,\n",
       "   <Tweet id=1599188978430713857 text='Se eu fosse diagnosticado com depressão (oq eu não sou pois nunca fui no psicólogo nem no psiquiatra p isso) com certeza hj eu diria q estou tendo crise depressiva pq pqp viu sinceramente'>,\n",
       "   <Tweet id=1599185057532420096 text='fico pensando se todos os meus anos de diagnóstico de ansiedade generalizada e depressao nao eram só profissionais não competentes o suficiente pra identificarem autismo em mim'>,\n",
       "   <Tweet id=1599165360233594880 text='Ter que ouvir da minha mãe que meu diagnóstico de depressão e ansiedade é DESCULPINHA foi a pior parte do meu dia.'>,\n",
       "   <Tweet id=1599164154623176704 text='tenho medo de ir no psicólogo e voltar com diagnóstico de depressão, ansiedade e tdah 😀😀😀😀'>,\n",
       "   <Tweet id=1599154296829800448 text='Nossa, só esse ano eu recebi diagnóstico, tive uma crise profunda de depressão, fui demitida. Consegui um emprego novo, fui pedida em namoro, terminei e voltei pra fase 1 kkkkkk'>,\n",
       "   <Tweet id=1599149932598136832 text='A pouco dias, eu fui diagnosticado com uma encefalomalácia, em basicamente toda região da têmpora esquerda... Um dos fatores de risco pra isso é depressão. Não preciso dizer mais nada, só esperar mesmo.'>,\n",
       "   <Tweet id=1599137112715993089 text='estou ha tres dias sem ver a jenni diagnostico depressao'>,\n",
       "   <Tweet id=1599136146315173890 text='Acho que atingi o ápice da minha auto diagnosticada depressão'>,\n",
       "   <Tweet id=1599118631576608769 text='Segundo diagnóstico de um veterinário, Bolsonaro está com depressão. E daí?'>,\n",
       "   <Tweet id=1599107456931536896 text='Quem está apto a fazer diagnóstico e tratamento de DEPRESSÃO é médico psiquiatra! Jornalistas e \"inflenciadores\" digitais não têm formação para fazer diagnóstico e muito menos divulgar.'>,\n",
       "   <Tweet id=1599090625118281729 text='daria tudo pra fazer um diagnóstico na joyce daquele periodo pq tenho crtz q tinha algo mto errado cmg. eu tinha uma depressao mto criativa'>,\n",
       "   <Tweet id=1599080613235286016 text='muito engraçado quando a psicóloga vem com diagnóstico de depressão e vc já sabia'>,\n",
       "   <Tweet id=1599066442078777344 text='Desgasta sua vida todinha, e as vezes pra depois vc descobrir que o diagnóstico todo tava errado pq sempre o diagnóstico é depressão e psiquiatra não busca investigar merda nenhuma, num geral prescrevem antidepressivos feito água e você que se f. É difícil pra caramba'>,\n",
       "   <Tweet id=1599061581450555393 text='Karen sei lá oq, eu também fico doente, eu também tenho depressão e ansiedade diagnosticada (e muitos outros problemas com diagnóstico), também tomo remédios etc. Nem por isso eu saio falando merda e usando depressão como desculpa+'>,\n",
       "   <Tweet id=1599049026510286848 text='Todo mundo fala \"você surta atoa\"\\n×descobri que os meus psiqutras me deram o diagnóstico errado, não era só depressão, eu sou bipolar! 4 anos de tratamento jogados no LIXO \\n×Meu pé esquerdo tem um osso a mais, vou operar\\n×Meu cabelo começou a cair horrores, chegou ao ponto de abr'>,\n",
       "   <Tweet id=1599045525512126466 text='Dormi muitas horas de ontem para hoje meu diagnóstico de depressão se renovando sozinho'>,\n",
       "   <Tweet id=1599021215636946945 text='Já fui diagnosticada com depressão, e a única coisa que senti com os remédios foi que eles me deixaram ainda mais desmotivada, e eu só ouvia do psiquiatra e da psicóloga que eu precisava me esforçar mais… hoje eu vejo que não só me diagnosticaram errado, mas que pioraram tudo…'>,\n",
       "   <Tweet id=1598967989398667264 text='minha irmã simplesmente as vezes se esquece dos meu diagnóstico de depressão aiai, ultimamente só querendo sumir viu'>,\n",
       "   <Tweet id=1598895363158523904 text='E me destroi ainda mais a ansiedade de pensar q talvez eu nunca melhore de fato, que sempre vai ser essa merda montanha russa do diagnóstico da recorrência de depressão .\\nNo fim, é aquilo:'>,\n",
       "   <Tweet id=1598872005973282816 text='Em 6 meses eu tive;\\n-Covid, Zika, Citomegalovírus e Chukungunya.\\n- Diagnóstico de Esclerose Múltipla + 4 surtos confirmados que precisaram de pulsoterapia + lesões na medula e no cérebro.\\n- Piora na ansiedade e depressão \\n- Desencadeamento de alguma outra doença autoimune'>,\n",
       "   <Tweet id=1598861108982390784 text='4 anos diagnosticada com depressao e minha mae ainda duvida do diagnóstico sendo que meu psiquiatra já falou pra ela umas 3 vezes q eu tenho depressao 😍😍😍😍😍😍😍😍'>,\n",
       "   <Tweet id=1598854833431511040 text='não sei se vou ficar feliz se eu for diagnosticado cm depressão por finalmente ter uma explicação pra toda essas merda que eu sinto, ou desesperado pq minha família vai ficar estranha cmg'>,\n",
       "   <Tweet id=1598820862899195905 text='Diagnóstico: entrei em depressão após ver vários vídeos de casais fofos fazendo a trend \"so tell me that you love me\" no tiktok🤧'>,\n",
       "   <Tweet id=1598817566591426560 text='eu conversando umas coisas com uma colega e ela: não eu tava assim tb mas no meu caso é pq eu fui diagnosticada com depressão… pelo amor de deus'>,\n",
       "   <Tweet id=1598804711041388544 text='Todos os dias dos meus 42 anos, sempre esperei aprovação dos meus pais e só recebi negativas e desprezo. Ao mostrar meu diagnóstico de depressão e ansiedade, eles disseram que é palhaçada. Cuido sozinha de duas crianças autistas numa luta do carai e, mesmo assim+'>,\n",
       "   <Tweet id=1598794989298864129 text='Oficialmente diagnosticado com depressão e distúrbio de bipolaridade, obrigado aos envolvidos \\U0001faf6🏻'>,\n",
       "   <Tweet id=1598789881542676480 text='mais uma notícia triste, fui diagnosticado com DPDB\\n\\nDepressão Pós Derrota do Brasil😥😢'>,\n",
       "   <Tweet id=1598785861046439966 text='diagnosticado com depressão pós jogo'>,\n",
       "   <Tweet id=1598758618131677184 text='A menina q tinha acabado de ser diagnosticada com depressão e o pai dela passou no mc,e comprou um “mc lanche feliz”:)\\nAchei fofo'>,\n",
       "   <Tweet id=1598731162343571456 text='Não aguento mais ver gnt passando pano pra homem só pq ele fala bonito ou pq ele tem um diagnóstico de depressão ou pq ele nao teve renda. Nd disso é desculpa pra ser violento e negar que homens recebem socialização pra se comportarem como se comportam é ignorar a realidade.'>,\n",
       "   <Tweet id=1598705632323985415 text='saiu o resultado do exame e infelizmente fui diagnosticada com depressão pós salvador 🤒'>,\n",
       "   <Tweet id=1598704254729928704 text='\"A depressão é uma doença psiquiátrica que tem seu diagnóstico feito por meio de uma avaliação clínica. Normalmente, apresentam-se sintomas de tristeza, autodepreciação, discurso de morte ou desesperança, alterações do sono e apetite, isolamento social...'>,\n",
       "   <Tweet id=1598698192144564226 text='Então é isso foi hoje dia 02/12/2022 q descobri e fui diagnosticada com depressão intensa e tá doendo tanto mais tanto\\nÉ uma dor insuportável parece q eu vou morrer, e pessoas q se diziam q estariam ali pra sempre me abandonaram, mas pq? Eu não fui suficiente? Pq fazer isso cmg?'>,\n",
       "   <Tweet id=1598679535586840585 text='minha trajetória nos ultimos dois anos foi: 2021 surtos psicoticos, duas internações, diagnóstico de bipolaridade; 2022 depressao ansiedade diagnostico de adicção (so melhorei em novembro)'>,\n",
       "   <Tweet id=1598666897964388352 text='a sexta-feira começou horrível: não tem mais pó de café e fui obrigado a tomar nescafé, que é o tipo de bebida mais próximo de um diagnóstico de depressão clínica'>,\n",
       "   <Tweet id=1598660412215631872 text='Na minha retrospectiva de 2022 só vai ter que eu:\\n\\nFui diagnosticada com depressão 😍'>,\n",
       "   <Tweet id=1598659715571093505 text='Cenas que acontecem quando você é diagnosticada com depressao e bipolaridade: eu estava agora me olhando no espelho apontando o dedo na minha cara e brigando comigo por estar triste\\n\\nGrande dia meus amigos'>,\n",
       "   <Tweet id=1598655721821700096 text='NÃO ACHO QUE SEJA POR CONTA DE DEPRESSÃO TAMBÉM PQ EU TENHO DIAGNÓSTICO A MAIS DE 5 ANOS E NEM NOS MEUS PIORES EPISÓDIOS EU TIVE FALTA DE APETITE COMO SINTOMA'>,\n",
       "   <Tweet id=1598651491878838273 text='. Eu tenho depressão crônica e crise de pânico, tudo diagnosticado e nunca usei como desculpa pra nada mas o que mais vejo é subceleb e celeb usando isso e todo mundo com uma empatia que não dão a quem realmente sofre com isso'>,\n",
       "   <Tweet id=1598639404024680450 text='Diagnostico: depressão\\nVontade: morrer'>,\n",
       "   <Tweet id=1598635450016694272 text='Hoje essa pessoa está se tratando e se Percebe quando está a ponto de entrar Em uma crise. Foram 34 anos pra essa pessoa fechar um diagnóstico. Desde os 13 anos ele era tratado como portador de depressão…'>,\n",
       "   <Tweet id=1598526095741140992 text='tomando remédio pra ansiedade tomando remédio pra depressão tomando remédio pra borderline tomando remédio pra insônia mas tenho diagnóstico de qualquer um desses? não'>,\n",
       "   <Tweet id=1598503083314659328 text='As inúmeras frases horríveis que eu ouvi. As contínuas rejeições, somadas ao abuso, desencadearam uma depressão severa contra a qual luto até hoje. \\nNão vou dizer pra vocês que foi fácil aceitar o diagnóstico. \\nNão é fácil olhar pra esses mesmos dois comprimidos todos os dias.'>,\n",
       "   <Tweet id=1598502158151843840 text='Tem nem 1 mês q fui diagnosticada com uma porra de depressão,agora voltou tudo de novo essa Merda de compulsão alimentar aaaah q odioooo'>,\n",
       "   <Tweet id=1598501922608234496 text='Diagnosticada com depressão e transtorno alimentar,olha que legal KKKKK'>,\n",
       "   <Tweet id=1598487857462710278 text='MN acabei de ver um vídeo que a menina tinha acabado de ser diagnosticada com depressão e o pai dela parou no mc donalds pra comprar um mc lanche feliz KKKKKKKKKKKKKKKKKKKKKK'>],\n",
       "  {},\n",
       "  [],\n",
       "  {'newest_id': '1600199315531911168',\n",
       "   'oldest_id': '1598487857462710278',\n",
       "   'result_count': 94,\n",
       "   'next_token': 'b26v89c19zqg8o3fpzhml4076pn0r9vo7tstr91jwewl9'}],\n",
       " [[<Tweet id=1598487043486748672 text='se você tem depressão eu aconselho você não entrar na etec, no começo do ano eu tomava 2 remédios, agora eu tomo 6 e fui diagnosticada com mais problemas mentais, nunca fui de faltar na escola estou com 270 faltas, as vezes eu fico de cama por uma semana por conta das crises.'>,\n",
       "   <Tweet id=1598486583178854400 text='acabei de ver um vídeo que a menina tinha acabado de ser diagnosticada com depressão e o pai dela parou no mc donalds pra comprar um mc lanche feliz 😃'>,\n",
       "   <Tweet id=1598476733346349063 text='cara, minha prima foi diagnosticada com depressão e minha mãe ta falando que o povo de hj em dia é fresco e que qualquer coisa já tá dizendo que vai se matar, NA FRENTE DA MINHA PRIMA qual o problema dessa mulher????'>,\n",
       "   <Tweet id=1598472609964118017 text='Eu acho tão engraçado o fato de que as pessoas sabem um terço do q é ser realmente diagnósticado com depressão'>,\n",
       "   <Tweet id=1598461360563798017 text='A ulli mandou eu guardar a catu\\nFiquei triste\\nTive o primeiro vislumbre de um diagnóstico alem da depressão, continuei triste porem com uma pontinha de esperança'>,\n",
       "   <Tweet id=1598458900243701761 text='Descobri que fiz tratamento pra depressão por 6 anos atoa. O que me deixa triste é saber que vou ter que fazer tratamento pro resto da vida... Mas pelo menos tenho um diagnóstico, né? Não é o fim do mundo, eu sei, mas ainda é uma merda.'>,\n",
       "   <Tweet id=1598449578466070540 text='Hoje o Nathan me lembrou do episódio que aconteceu comigo no 8° ano.\\nUm professor que tivemos falou que eu tinha depressão, por não ter saído pro intervalo com os meus colegas, ofereceu até ajuda, mas eu disse que não tinha depressão. \\n1 ano depois foi diagnosticada com depressão'>,\n",
       "   <Tweet id=1598429341343424535 text='esse ano eu: fui diagnosticado com transtorno de ansiedade, depressão, borderline, toc e tdh 🤪'>,\n",
       "   <Tweet id=1598424594284965890 text='Não sei pq mas fiquei surpreso com o meu quase diagnóstico definitivo de depressão\\nÉ tipo, uma coisa que eu não esperava sinceramente. Eu já esperava ter TAG e já esperava ter oscilação de humor, mas não depressãokkkkkk'>,\n",
       "   <Tweet id=1598393081958727688 text='Ou quando eu fui diagnosticada com DEPRESSÃO e vieram me falar pra tomar cuidado em falar disso com o Leo para não sobrecarrega-ló.\\n\\nQue não pegava “bem” uma esposa de pastor com depressão\\n\\nEle não precisa cuidar de mim. Eu só não posso estragar a imagem dele.'>,\n",
       "   <Tweet id=1598392717889114112 text='Incrível como alguns médicos são… mais cedo fui na consulta, com um possível diagnóstico de trombose. a médica apertou minha perna que tava doendo, já chegou falando que tenho depressão, ansiedade, que é coisa da minha cabeça. Falou da minha alimentação… +'>,\n",
       "   <Tweet id=1598373915193397248 text='Romantizaçoes do passado\\n\\n\"Faziam isso com as crianças e estão vivas, agora é cheio de frescura\"\\nMortalidade infantil era enorme e o povo crescia traumatizado.\\n\\n\"Antigamente não tinha depressão, autismo, TDAH...\"\\nNão tinha diagnostico.\\nTodo mundo tinha um parente \"lerdinho\"\\n+'>,\n",
       "   <Tweet id=1598370669640966145 text='Recentemente tive os piores 13 dias da minha vida. Cabeça a milhão, pensamentos sem sentido, e a sensação de que o pior se aproximava para mim.\\nRetornei ao médico, e o diagnóstico foi pior do que eu pensava: a depressão avançou mais uma casa, com isso remédios novos e mais fortes'>,\n",
       "   <Tweet id=1598364114325159939 text='não sei por quê mas ontem de madrugada quase um ano depois do meu diagnóstico  fiquei muito triste porque percebi que se eu não tivesse depressão eu literalmente seria imparável'>,\n",
       "   <Tweet id=1598351278937182210 text='diagnóstico de hoje: depressão, tristeza, ansiedade, crise de socorro'>,\n",
       "   <Tweet id=1598345609022423040 text='Ser diagnósticado com a síndrome do salvador, é tão ruim quanto depressão. Você basicamente cuida de todo mundo que não cuida de você e só se fode.'>,\n",
       "   <Tweet id=1598330241725988868 text='tudo para o tiktok é TDAH, depressão, ansiedade e borderline. minha filha, se você não foi em um profissional e recebeu o diagnóstico você &gt;&gt;&gt;&gt;não&lt;&lt;&lt;&lt; tem.'>,\n",
       "   <Tweet id=1598292913171009536 text='E sim, eu tive leite, nos primeiros dias tive muita dificuldade pra amamentar, doía, me angustiava que eu chegava chorar na hora que o bebê acordava pra mamar, depois que fui diagnosticada com depressao pos-parto a médica me explicou o pq dessa sensação'>,\n",
       "   <Tweet id=1598283097896005632 text='O ser humano é igual de direita e esquerda, portanto, se aparecer um de Direita e meter bala em certas figuras da república não terei um pingo de piedade nem farei defesa, acharei normal, depressão, ‘stress’ cansaço mental. A psiquiatria cria um novo diagnóstico, ADELITE.'>,\n",
       "   <Tweet id=1598264941265526785 text='Se eu for em qualquer profissional que cuide de saúde mental (psicólogo, psiquiatra) eu provavelmente serei diagnosticada com depressão por todos eles'>,\n",
       "   <Tweet id=1598179644955496449 text='eu disse q ela nunca teve, ou teve alguém próx e depressão é doença igual qualquer outra doença q é diagnosticada ELA ESTÁ ALI, a dra formada em EAD da casa do krlh ficou com raiva me deu unflow e me removeu. Forte abraço, pessoas ignorantes n fazem parte do meu ciclo social \\U0001faf6🏾'>,\n",
       "   <Tweet id=1598145758628556801 text='diagnóstico de depressão desde os 2 anos de idade acho q é um bom motivo pra n querer viver mais'>,\n",
       "   <Tweet id=1598142597582950400 text='Eu preciso de ajuda\\nTenho depressão \\nAnsiedade diagnosticada \\nE acho que tenho transtorno de raiva \\nUi'>,\n",
       "   <Tweet id=1598139537871486976 text='ok definitivamente diagnóstico de uma depressão nao era exatamente oq eu tava esperando nesse momento.'>,\n",
       "   <Tweet id=1598108217930022912 text='Fui diagnosticado com depressao. Sim, isso mesmo que você leu. Eu, hoje, fui diagnosticado com essa doença maldita e eu não aguento mais chorar por achar que é culpa minha \\n\\nO tratamento? O médico pediu uma nora pra minha mãe ele disse que só isso pode me salvar'>,\n",
       "   <Tweet id=1598107721148297217 text='Fui diagnosticada com depressão, achei que receberia apoio e compreensão, recebi julgamento e lição de moral'>,\n",
       "   <Tweet id=1598106226457718785 text='um dos conteúdos do tiktok que eu mais odeio são os do diagnóstico, coisas do tipo “abaixe um dedo pra cada coisa que você se identifica” e no final a pessoa diz “se você abaixou tantos dedos eh provável que você tenha tdah/autismo/depressão” gente????? diagnóstico eh individual'>,\n",
       "   <Tweet id=1598098081362628608 text='semana que vem vou ao médico e dessa vez eu pretendo ser sincero sobre como eu me sinto.\\njá suponho que vou ser diagnosticado com depressão, e isso dói. \\nnão pretendo fazer uso de medicamentos, passo por isso a anos, eu só quero alguém pra me ouvir.'>,\n",
       "   <Tweet id=1598060885205209088 text='como que eu saí de criança extremamente comunicativa e brincalhona pra a primeira diagnosticada com depressão da família????'>,\n",
       "   <Tweet id=1598037931708805121 text='ansiedade e TOC eu já tava diagnosticado já faz quase dois anos, mas só hoje que ele me diagnosticou com depressão (eu sabendo que tenho depressão desde os 12 anos)'>,\n",
       "   <Tweet id=1598026002294517760 text='O Bolsonaro ta tipo eu quando entrava em crises de depressão: intocado e falando com poucas pessoas. A diferença é que a minha depressão foi diagnosticada e nunca havia me declarado imbroxável.'>,\n",
       "   <Tweet id=1598004992337915905 text='diagnóstico: depressão'>,\n",
       "   <Tweet id=1598001141635514368 text='gente, que garota depressiva, até eu que fui diagnosticada com depressão não sou assim'>,\n",
       "   <Tweet id=1597989567088713729 text='ou vai tomar no cu, pq pais são assim? a garota tem depressão e foi diagnosticada FAZ 3 SEMANAS, e literalmente o motivo é a porra da tua existência velha do caralho, pelo amor, tenha um mínimo de cuidado com a minha namorada sua escrita, não faz sentido tu tratar ela desse jeito'>,\n",
       "   <Tweet id=1597985509694767104 text='vendo minha retrospectiva no Spotify \\ndiagnóstico: depressão'>,\n",
       "   <Tweet id=1597982116041887744 text='Dá até vergonha de compartilhar os meus mais ouvidos do Spotify hahaha\\nO diagnóstico de depressão vem aí'>,\n",
       "   <Tweet id=1597975383500279808 text='A retrospectiva do Spotify só faltou me dar o diagnóstico de depressão'>,\n",
       "   <Tweet id=1597965983272271875 text='falei pra minha mãe que tô com um sentimento ruim, de tristeza/aflição e ela: é filha, acho que você tá com depressao \\njá recebi o diagnóstico 🙏'>,\n",
       "   <Tweet id=1597965784978182145 text='Os meus pais sabem que estou diagnosticada com depressão, ansiedade, TOC (não sabem do autismo) mas ainda assim dizem-me, com o maior a vontade, “estás desleixada. Já não te arranjas. Antes estavas sempre bonita. Falávamos sempre de ti como uma princesa. Agora não te cuidas”.'>,\n",
       "   <Tweet id=1597963282014691329 text='O resumo do meu Spotify também me deu diagnóstico psicológico; depressao 😍😍🥰'>,\n",
       "   <Tweet id=1597961145524314114 text='Descobri depois de anos que provavelmente eu fui diagnosticada errada por anos ou minha coluna cervical curou milagrosamente. E toda minha dor que eu sinto foi causada por depressão e muito estresse que causou sim alguns danos na coluna mas tratável de uma forma +'>,\n",
       "   <Tweet id=1597958637015961602 text='Eu fui diagnosticado com ansiedade e depressão esses dias, e era pra estar tomando uns medicamentos. mas não vou fazer Isso.\\nNo momento eu estou calmo e lidando bem com tudo.'>,\n",
       "   <Tweet id=1597954638904717312 text='Tenho diagnóstico de transtorno de ansiedade e depressão. Com a pandemia meu quadro se agravou, e em 3 anos engordei 31kg. Fui fazer meu check-up anual, meus exames clínicos deram TODOS NORMAIS. A médica olhou os exames e: \"é tá tudo ok, mas vc PRECISA fazer uma bariátrica\"🤡🤡'>,\n",
       "   <Tweet id=1597943132163039232 text='saí de lá novamente com Estabilizadores de Humor, mas dessa vez com um mais moderninho, que age sim nas fases mais depressivas (mas não um diagnóstico de Depressão de fato). Porém, meu psicoterapeuta tem insistido em trabalharmos (plot twist, ou não) TDAH, com os transtornos de'>,\n",
       "   <Tweet id=1597943126131630083 text='Talvez valha aqui um breve comunicado, sem comunicar, mas que enfim, minha experiência como forma da gente se apoiar também... Não estou diagnosticada com Depressão necessariamente, mas estou aí cuidando da saúde mental! Completei 1 ano com meu atual terapeuta (Obrigada, Dennis),'>,\n",
       "   <Tweet id=1597938284046749697 text='A mulher simplesmente é uma babaca e bota a culpa na depressão e ansiedade.\\nNem eu que tenho diagnóstico de border que é tóxico, sou escrota desse jeito. Kjkjkhkhkh'>,\n",
       "   <Tweet id=1597867160852123648 text='só tem depressão quem vai atrás se n tenho diagnóstico é só uma fase ruim😎😎😎'>,\n",
       "   <Tweet id=1597812963909722112 text='Procurando motivos pra viver depois de um diagnóstico de depressão 🤪'>,\n",
       "   <Tweet id=1597804858677108736 text='esse ano eu: fui diagnosticado com depressão, conheci uma pessoa incrível e só dormir 🥰😘'>,\n",
       "   <Tweet id=1597799631504625665 text='talvez eu tenha depressão não diagnosticada mas não quero ficar falando isso pra não parecer frescura ou que quero chamar atenção'>,\n",
       "   <Tweet id=1597784864748498944 text='Foi tentar me ajudar e me proporcionou um diagnóstico de depressão, obg'>,\n",
       "   <Tweet id=1597778036891742208 text='O mal do povo é achar que sou otaria VAI se fuder meu diagnóstico é de depressão não de babaca'>,\n",
       "   <Tweet id=1597777677645381632 text='Amg eu fui diagnosticada com depressão quando eu tinha ONZE anos vc acha q qualquer coisa me abala?'>,\n",
       "   <Tweet id=1597762525939974146 text='agr q eu fui diagnosticado oficialmente com depressão e ansiedade, posso ser considerado um adolescente da geração Z?'>,\n",
       "   <Tweet id=1597761556879589379 text='Viram meu remédio tarja preta e perguntaram se eu tinha depressão. E eu disse sim tenho, simplesmente pq temo falar q tenho tdah e a pessoa achar que meu diagnóstico veio de teste do tik Tok. Pq agora todo mundo ver os sintomas, se identifica e se autodiagnostica.\\nOw vantagem'>,\n",
       "   <Tweet id=1597760308613091329 text='Ver no insta o pessoal postando sobre esse ano e parando p analisar que esse ano eu: Encerrei ciclos, diagnóstico de depressão, ansiedade, TOC e alergia emocional 🤡🤡🤡🤡'>,\n",
       "   <Tweet id=1597756559953915905 text='fiquei de rec e automaticamente com diagnóstico de depressão'>,\n",
       "   <Tweet id=1597754230206779392 text='Blz diagnóstico de depressão e ansiedade, só ladeira a baixo. Já chorei até perder o fôlego infelizmente'>,\n",
       "   <Tweet id=1597748265575120896 text='Hj fui diagnosticada cm depressao profunda, scrr como saio desse buraco'>,\n",
       "   <Tweet id=1597737316160016384 text='Gente 2022 foi o pior ano da minha vida 😍😍 \\nE olha que tivemos 2020 com o diagnóstico da depressão, o isolamento do covid e volta da crise lascada do crohn com corticoide de 40 hein??'>,\n",
       "   <Tweet id=1597699114380460032 text='NOTÍCIAS MARAVILHOSAS: Eu fui na médica ontem levar os exames, e ela falou que eu não tenho mais epilepsia, porém eu fui diagnosticada com TDAH. Eu também estou finalmente trocando os remédios, principalmente o da depressão ❤❤❤'>,\n",
       "   <Tweet id=1597694874597588992 text='Obgda psicóloga, além da senhora me dá diagnóstico de depressão, ansiedade, a ainda vem transtorno bipolar!? Porran'>,\n",
       "   <Tweet id=1597685332904140800 text='Eu já sabia que sofria de depressão/ansiedade e fingia que não mas ser diagnosticada oficialmente foi foda 😭'>,\n",
       "   <Tweet id=1597678018054717441 text='fui diagnósticada com depressão, estou fazendo acompanhamento psiquiátrico, e cara mesmo com tantas coisas ruins que aconteceu, agradeço a Deus por me fazer chegar até aqui, e espero que 2023 seja melhor!!'>,\n",
       "   <Tweet id=1597670836403843073 text='Na época do Tumblr td mundo tinha depressão e bipolaridade (sem diagnóstico)\\nAgora graças ao TikTok geral tem autismo e TDAH (também sem diagnóstico)\\nAnsiosa pra ver qual será a próxima moda'>],\n",
       "  {},\n",
       "  [],\n",
       "  {'newest_id': '1598487043486748672',\n",
       "   'oldest_id': '1597670836403843073',\n",
       "   'result_count': 65}]]"
      ]
     },
     "execution_count": 14,
     "metadata": {},
     "output_type": "execute_result"
    }
   ],
   "source": [
    "all_tweets"
   ]
  },
  {
   "cell_type": "code",
   "execution_count": 15,
   "id": "075cb407",
   "metadata": {},
   "outputs": [],
   "source": [
    "df = pd.DataFrame()\n",
    "for i in all_tweets:\n",
    "    df = pd.concat([df, pd.DataFrame(i[0])], ignore_index=True)\n",
    "df = df.drop_duplicates( \"text\" , keep='first')"
   ]
  },
  {
   "cell_type": "code",
   "execution_count": 16,
   "id": "bd9e1de1",
   "metadata": {},
   "outputs": [
    {
     "data": {
      "text/plain": [
       "pt    159\n",
       "Name: lang, dtype: int64"
      ]
     },
     "execution_count": 16,
     "metadata": {},
     "output_type": "execute_result"
    }
   ],
   "source": [
    "df.lang.value_counts()"
   ]
  },
  {
   "cell_type": "code",
   "execution_count": 17,
   "id": "60f0b011",
   "metadata": {},
   "outputs": [
    {
     "data": {
      "text/plain": [
       "(159, 10)"
      ]
     },
     "execution_count": 17,
     "metadata": {},
     "output_type": "execute_result"
    }
   ],
   "source": [
    "df.shape"
   ]
  },
  {
   "cell_type": "code",
   "execution_count": 18,
   "id": "14801785",
   "metadata": {},
   "outputs": [],
   "source": [
    "today = str(datetime.today().strftime('%Y-%m-%d').replace('-', '_'))"
   ]
  },
  {
   "cell_type": "code",
   "execution_count": 19,
   "id": "52e382bc",
   "metadata": {},
   "outputs": [],
   "source": [
    "df.to_csv(f'twitter_data_mh_diag__{today}.csv')"
   ]
  }
 ],
 "metadata": {
  "kernelspec": {
   "display_name": "Python 3 (ipykernel)",
   "language": "python",
   "name": "python3"
  },
  "language_info": {
   "codemirror_mode": {
    "name": "ipython",
    "version": 3
   },
   "file_extension": ".py",
   "mimetype": "text/x-python",
   "name": "python",
   "nbconvert_exporter": "python",
   "pygments_lexer": "ipython3",
   "version": "3.9.13"
  }
 },
 "nbformat": 4,
 "nbformat_minor": 5
}
